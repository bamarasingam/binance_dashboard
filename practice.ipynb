{
 "cells": [
  {
   "cell_type": "markdown",
   "metadata": {},
   "source": [
    "Practice implementation for various predictive models"
   ]
  },
  {
   "cell_type": "code",
   "execution_count": 5,
   "metadata": {},
   "outputs": [],
   "source": [
    "import pandas as pd\n",
    "import numpy as np\n",
    "from binance.client import Client\n",
    "from datetime import datetime, timedelta\n",
    "from sklearn.linear_model import LinearRegression\n",
    "from sklearn.preprocessing import MinMaxScaler\n",
    "from sklearn.preprocessing import StandardScaler\n",
    "from sklearn.model_selection import train_test_split\n",
    "from sklearn.metrics import mean_squared_error, accuracy_score, classification_report\n",
    "from sklearn.impute import SimpleImputer"
   ]
  },
  {
   "cell_type": "code",
   "execution_count": 2,
   "metadata": {},
   "outputs": [],
   "source": [
    "client = Client()\n",
    "\n",
    "# Set the start date and current date\n",
    "start_date = \"1 Jan, 2020\"\n",
    "end_date = datetime.now().strftime(\"%d %b, %Y\")\n",
    "\n",
    "# Fetch the klines/candlestick data\n",
    "klines = client.get_historical_klines(\"BTCUSDT\", Client.KLINE_INTERVAL_1DAY, start_date, end_date)\n",
    "\n",
    "# Create a DataFrame\n",
    "df = pd.DataFrame(klines, columns=['timestamp', 'open', 'high', 'low', 'close', 'volume', 'close_time', 'quote_asset_volume', 'number_of_trades', 'taker_buy_base_asset_volume', 'taker_buy_quote_asset_volume', 'ignore'])\n",
    "\n",
    "# Convert timestamp to datetime\n",
    "df['timestamp'] = pd.to_datetime(df['timestamp'], unit='ms')\n",
    "\n",
    "# Set timestamp as index\n",
    "df.set_index('timestamp', inplace=True)\n",
    "\n",
    "# Convert relevant columns to float\n",
    "float_columns = ['open', 'high', 'low', 'close', 'volume', 'quote_asset_volume', 'taker_buy_base_asset_volume', 'taker_buy_quote_asset_volume']\n",
    "df[float_columns] = df[float_columns].astype(float)\n",
    "\n",
    "# Keep only the columns we're interested in\n",
    "df = df[['open', 'high', 'low', 'close', 'volume']]"
   ]
  },
  {
   "cell_type": "code",
   "execution_count": 3,
   "metadata": {},
   "outputs": [
    {
     "data": {
      "text/html": [
       "<div>\n",
       "<style scoped>\n",
       "    .dataframe tbody tr th:only-of-type {\n",
       "        vertical-align: middle;\n",
       "    }\n",
       "\n",
       "    .dataframe tbody tr th {\n",
       "        vertical-align: top;\n",
       "    }\n",
       "\n",
       "    .dataframe thead th {\n",
       "        text-align: right;\n",
       "    }\n",
       "</style>\n",
       "<table border=\"1\" class=\"dataframe\">\n",
       "  <thead>\n",
       "    <tr style=\"text-align: right;\">\n",
       "      <th></th>\n",
       "      <th>open</th>\n",
       "      <th>high</th>\n",
       "      <th>low</th>\n",
       "      <th>close</th>\n",
       "      <th>volume</th>\n",
       "    </tr>\n",
       "    <tr>\n",
       "      <th>timestamp</th>\n",
       "      <th></th>\n",
       "      <th></th>\n",
       "      <th></th>\n",
       "      <th></th>\n",
       "      <th></th>\n",
       "    </tr>\n",
       "  </thead>\n",
       "  <tbody>\n",
       "    <tr>\n",
       "      <th>2020-01-01</th>\n",
       "      <td>7195.24</td>\n",
       "      <td>7255.0</td>\n",
       "      <td>7175.15</td>\n",
       "      <td>7200.85</td>\n",
       "      <td>16792.388165</td>\n",
       "    </tr>\n",
       "    <tr>\n",
       "      <th>2020-01-02</th>\n",
       "      <td>7200.77</td>\n",
       "      <td>7212.5</td>\n",
       "      <td>6924.74</td>\n",
       "      <td>6965.71</td>\n",
       "      <td>31951.483932</td>\n",
       "    </tr>\n",
       "    <tr>\n",
       "      <th>2020-01-03</th>\n",
       "      <td>6965.49</td>\n",
       "      <td>7405.0</td>\n",
       "      <td>6871.04</td>\n",
       "      <td>7344.96</td>\n",
       "      <td>68428.500451</td>\n",
       "    </tr>\n",
       "    <tr>\n",
       "      <th>2020-01-04</th>\n",
       "      <td>7345.00</td>\n",
       "      <td>7404.0</td>\n",
       "      <td>7272.21</td>\n",
       "      <td>7354.11</td>\n",
       "      <td>29987.974977</td>\n",
       "    </tr>\n",
       "    <tr>\n",
       "      <th>2020-01-05</th>\n",
       "      <td>7354.19</td>\n",
       "      <td>7495.0</td>\n",
       "      <td>7318.00</td>\n",
       "      <td>7358.75</td>\n",
       "      <td>38331.085604</td>\n",
       "    </tr>\n",
       "  </tbody>\n",
       "</table>\n",
       "</div>"
      ],
      "text/plain": [
       "               open    high      low    close        volume\n",
       "timestamp                                                  \n",
       "2020-01-01  7195.24  7255.0  7175.15  7200.85  16792.388165\n",
       "2020-01-02  7200.77  7212.5  6924.74  6965.71  31951.483932\n",
       "2020-01-03  6965.49  7405.0  6871.04  7344.96  68428.500451\n",
       "2020-01-04  7345.00  7404.0  7272.21  7354.11  29987.974977\n",
       "2020-01-05  7354.19  7495.0  7318.00  7358.75  38331.085604"
      ]
     },
     "execution_count": 3,
     "metadata": {},
     "output_type": "execute_result"
    }
   ],
   "source": [
    "df.head()"
   ]
  },
  {
   "cell_type": "code",
   "execution_count": 4,
   "metadata": {},
   "outputs": [
    {
     "data": {
      "text/plain": [
       "(1653, 5)"
      ]
     },
     "execution_count": 4,
     "metadata": {},
     "output_type": "execute_result"
    }
   ],
   "source": [
    "df.shape"
   ]
  },
  {
   "cell_type": "code",
   "execution_count": null,
   "metadata": {},
   "outputs": [],
   "source": []
  }
 ],
 "metadata": {
  "kernelspec": {
   "display_name": "quant",
   "language": "python",
   "name": "python3"
  },
  "language_info": {
   "codemirror_mode": {
    "name": "ipython",
    "version": 3
   },
   "file_extension": ".py",
   "mimetype": "text/x-python",
   "name": "python",
   "nbconvert_exporter": "python",
   "pygments_lexer": "ipython3",
   "version": "3.11.4"
  }
 },
 "nbformat": 4,
 "nbformat_minor": 2
}
